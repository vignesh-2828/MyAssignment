{
 "cells": [
  {
   "cell_type": "markdown",
   "id": "932117b1",
   "metadata": {},
   "source": [
    "# Assignment"
   ]
  },
  {
   "cell_type": "code",
   "execution_count": 1,
   "id": "1040eaa3",
   "metadata": {},
   "outputs": [],
   "source": [
    "import pandas as pd"
   ]
  },
  {
   "cell_type": "markdown",
   "id": "5a4b3109",
   "metadata": {},
   "source": [
    "Question 1"
   ]
  },
  {
   "cell_type": "code",
   "execution_count": 2,
   "id": "00fb820f",
   "metadata": {},
   "outputs": [
    {
     "name": "stderr",
     "output_type": "stream",
     "text": [
      "C:\\Users\\user\\AppData\\Local\\Temp\\ipykernel_1496\\987880635.py:1: DtypeWarning: Columns (16) have mixed types. Specify dtype option on import or set low_memory=False.\n",
      "  df = pd.read_csv('complaints.csv')\n"
     ]
    }
   ],
   "source": [
    "df = pd.read_csv('complaints.csv')"
   ]
  },
  {
   "cell_type": "raw",
   "id": "fe0eab9e",
   "metadata": {},
   "source": [
    "possible data insights"
   ]
  },
  {
   "cell_type": "code",
   "execution_count": null,
   "id": "57cc77c6",
   "metadata": {},
   "outputs": [],
   "source": [
    "# Specify data types for columns with mixed types\n",
    "dtype_dict = {'Column_with_mixed_types': str} \n",
    "# Replace 'Column_with_mixed_types' with the actual column name\n",
    "df = pd.read_csv('complaints.csv', dtype=dtype_dict)"
   ]
  },
  {
   "cell_type": "code",
   "execution_count": 5,
   "id": "7c34a73c",
   "metadata": {},
   "outputs": [
    {
     "name": "stdout",
     "output_type": "stream",
     "text": [
      "Basic Information about the Dataset:\n",
      "<class 'pandas.core.frame.DataFrame'>\n",
      "RangeIndex: 5159721 entries, 0 to 5159720\n",
      "Data columns (total 18 columns):\n",
      " #   Column                        Dtype \n",
      "---  ------                        ----- \n",
      " 0   Date received                 object\n",
      " 1   Product                       object\n",
      " 2   Sub-product                   object\n",
      " 3   Issue                         object\n",
      " 4   Sub-issue                     object\n",
      " 5   Consumer complaint narrative  object\n",
      " 6   Company public response       object\n",
      " 7   Company                       object\n",
      " 8   State                         object\n",
      " 9   ZIP code                      object\n",
      " 10  Tags                          object\n",
      " 11  Consumer consent provided?    object\n",
      " 12  Submitted via                 object\n",
      " 13  Date sent to company          object\n",
      " 14  Company response to consumer  object\n",
      " 15  Timely response?              object\n",
      " 16  Consumer disputed?            object\n",
      " 17  Complaint ID                  int64 \n",
      "dtypes: int64(1), object(17)\n",
      "memory usage: 708.6+ MB\n",
      "None\n"
     ]
    }
   ],
   "source": [
    "# Display basic information \n",
    "print(\"Basic Information about the Dataset:\")\n",
    "print(df.info())"
   ]
  },
  {
   "cell_type": "code",
   "execution_count": 6,
   "id": "1d6c6f38",
   "metadata": {},
   "outputs": [
    {
     "name": "stdout",
     "output_type": "stream",
     "text": [
      "\n",
      "Top 5 product categories with the most complaints:\n",
      "Credit reporting, credit repair services, or other personal consumer reports    2163878\n",
      "Credit reporting or other personal consumer reports                              952973\n",
      "Debt collection                                                                  566391\n",
      "Mortgage                                                                         397729\n",
      "Checking or savings account                                                      212250\n",
      "Name: Product, dtype: int64\n"
     ]
    }
   ],
   "source": [
    "# Top 5 product categories with the most complaints occured\n",
    "top_product_categories = df['Product'].value_counts().head(5)\n",
    "print(\"\\nTop 5 product categories with the most complaints:\")\n",
    "print(top_product_categories)"
   ]
  },
  {
   "cell_type": "code",
   "execution_count": 7,
   "id": "e8897737",
   "metadata": {},
   "outputs": [
    {
     "name": "stdout",
     "output_type": "stream",
     "text": [
      "\n",
      "Top 5 companies with the most complaints:\n",
      "EQUIFAX, INC.                             1072368\n",
      "TRANSUNION INTERMEDIATE HOLDINGS, INC.     993670\n",
      "Experian Information Solutions Inc.        902012\n",
      "BANK OF AMERICA, NATIONAL ASSOCIATION      140236\n",
      "WELLS FARGO & COMPANY                      128377\n",
      "Name: Company, dtype: int64\n"
     ]
    }
   ],
   "source": [
    "# Top 5 companies with the most complaints occured\n",
    "top_companies = df['Company'].value_counts().head(5)\n",
    "print(\"\\nTop 5 companies with the most complaints:\")\n",
    "print(top_companies)"
   ]
  },
  {
   "cell_type": "code",
   "execution_count": 8,
   "id": "55dd9180",
   "metadata": {},
   "outputs": [
    {
     "name": "stdout",
     "output_type": "stream",
     "text": [
      "\n",
      "Top 5 states with the most complaints:\n",
      "FL    618311\n",
      "CA    589243\n",
      "TX    549534\n",
      "GA    353610\n",
      "NY    331265\n",
      "Name: State, dtype: int64\n"
     ]
    }
   ],
   "source": [
    "# Top 5 states with the most complaints\n",
    "top_states = df['State'].value_counts().head(5)\n",
    "print(\"\\nTop 5 states with the most complaints:\")\n",
    "print(top_states)"
   ]
  },
  {
   "cell_type": "markdown",
   "id": "8e1adfb3",
   "metadata": {},
   "source": [
    "Question 2"
   ]
  },
  {
   "cell_type": "code",
   "execution_count": 9,
   "id": "f6e61edc",
   "metadata": {},
   "outputs": [],
   "source": [
    "# Question 2: Longest Continuous Increasing Subsequence\n",
    "\n",
    "def findLengthOfLCIS(nums):\n",
    "    if not nums:\n",
    "        return 0\n",
    "    max_length = 1\n",
    "    current_length = 1\n",
    "    for i in range(1, len(nums)):\n",
    "        if nums[i] > nums[i - 1]:\n",
    "            current_length += 1\n",
    "            max_length = max(max_length, current_length)\n",
    "        else:\n",
    "            current_length = 1\n",
    "    return max_length\n",
    "\n",
    "\n"
   ]
  },
  {
   "cell_type": "code",
   "execution_count": 15,
   "id": "d8c9ad81",
   "metadata": {
    "scrolled": true
   },
   "outputs": [
    {
     "name": "stdout",
     "output_type": "stream",
     "text": [
      "\n",
      "Question 2:\n",
      "Example 1 - Input: [1,3,5,4,7], Output: 3\n",
      "Example 2 - Input: [2,2,2,2,2], Output: 1\n"
     ]
    }
   ],
   "source": [
    "# Print the test cases for the above\n",
    "print(\"\\nQuestion 2:\")\n",
    "print(\"Example 1 - Input: [1,3,5,4,7], Output:\", findLengthOfLCIS([1,3,5,4,7]))\n",
    "print(\"Example 2 - Input: [2,2,2,2,2], Output:\", findLengthOfLCIS([2,2,2,2,2]))"
   ]
  },
  {
   "cell_type": "markdown",
   "id": "8c59f7dd",
   "metadata": {},
   "source": [
    "Question 3"
   ]
  },
  {
   "cell_type": "code",
   "execution_count": 21,
   "id": "a0814b08",
   "metadata": {},
   "outputs": [],
   "source": [
    "# Question 3: Arrange Numbers to Form Largest Number (Non negative Interger)\n",
    "\n",
    "def largestNumber(nums):\n",
    "    nums = [str(num) for num in nums]\n",
    "    nums.sort(key=lambda x: x*10, reverse=True)\n",
    "    return str(int(''.join(nums)))\n"
   ]
  },
  {
   "cell_type": "code",
   "execution_count": 25,
   "id": "52602626",
   "metadata": {},
   "outputs": [
    {
     "name": "stdout",
     "output_type": "stream",
     "text": [
      "\n",
      "Question 3:\n",
      "Output: 320\n",
      "Output: 64353110\n"
     ]
    }
   ],
   "source": [
    "# Test cases\n",
    "print(\"\\nQuestion 3:\")\n",
    "print(\"Output:\",largestNumber([20,3]))\n",
    "print(\"Output:\", largestNumber([4,31,35,6,10]))"
   ]
  },
  {
   "cell_type": "markdown",
   "id": "7e3b4b79",
   "metadata": {},
   "source": [
    "Question 4"
   ]
  },
  {
   "cell_type": "code",
   "execution_count": 26,
   "id": "860c398f",
   "metadata": {},
   "outputs": [],
   "source": [
    "# Question 4: Store \"servlet-name\" and \"servlet-class\" to a CSV file from JSON\n",
    "\n",
    "# Importing necessary library\n",
    "import json"
   ]
  },
  {
   "cell_type": "code",
   "execution_count": 28,
   "id": "85e0c530",
   "metadata": {},
   "outputs": [],
   "source": [
    "# Load JSON data\n",
    "with open('DT A1 sample_json (1) (1).json') as json_file:\n",
    "    data = json.load(json_file)"
   ]
  },
  {
   "cell_type": "code",
   "execution_count": 29,
   "id": "e2f27248",
   "metadata": {},
   "outputs": [],
   "source": [
    "# Navigate through the JSON structure\n",
    "servlet_data = []\n",
    "\n",
    "for servlet in data['web-app']['servlet']:\n",
    "    servlet_name = servlet['servlet-name']\n",
    "    servlet_class = servlet['servlet-class']\n",
    "    servlet_data.append((servlet_name, servlet_class))"
   ]
  },
  {
   "cell_type": "code",
   "execution_count": 30,
   "id": "c9a38e9a",
   "metadata": {},
   "outputs": [],
   "source": [
    "# Creating a Data Frame from the extracted data\n",
    "servlet_df = pd.DataFrame(servlet_data, columns=['servlet-name', 'servlet-class'])\n"
   ]
  },
  {
   "cell_type": "code",
   "execution_count": 31,
   "id": "a9a1c758",
   "metadata": {},
   "outputs": [
    {
     "name": "stdout",
     "output_type": "stream",
     "text": [
      "Data saved to servlet_data.csv file.\n"
     ]
    }
   ],
   "source": [
    "# Saving the DataFrame to a CSV file as metioned \n",
    "servlet_df.to_csv('servlet_data.csv', index=False)\n",
    "\n",
    "print(\"Data saved to servlet_data.csv file.\")"
   ]
  }
 ],
 "metadata": {
  "kernelspec": {
   "display_name": "Python 3 (ipykernel)",
   "language": "python",
   "name": "python3"
  },
  "language_info": {
   "codemirror_mode": {
    "name": "ipython",
    "version": 3
   },
   "file_extension": ".py",
   "mimetype": "text/x-python",
   "name": "python",
   "nbconvert_exporter": "python",
   "pygments_lexer": "ipython3",
   "version": "3.9.13"
  }
 },
 "nbformat": 4,
 "nbformat_minor": 5
}
